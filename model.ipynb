{
 "cells": [
  {
   "cell_type": "code",
   "execution_count": 6,
   "metadata": {},
   "outputs": [],
   "source": [
    "import pandas as pd\n",
    "from sklearn import preprocessing\n",
    "from sklearn.metrics import accuracy_score\n",
    "from sklearn.model_selection import train_test_split\n",
    "from sklearn.ensemble import GradientBoostingClassifier\n",
    "import cv2\n",
    "\n",
    "import numpy as np\n",
    "from sklearn.model_selection import GridSearchCV\n",
    "from sklearn.metrics import fbeta_score"
   ]
  },
  {
   "cell_type": "code",
   "execution_count": 19,
   "metadata": {},
   "outputs": [],
   "source": [
    "def submission(pred):\n",
    "    tmp = pd.read_csv(\"test_/test_.csv\")\n",
    "    tmp = tmp[tmp.columns[0:2]]\n",
    "    tmp['anomaly'] = pred\n",
    "    return tmp[['fileName','anomaly']]"
   ]
  },
  {
   "cell_type": "code",
   "execution_count": 40,
   "metadata": {},
   "outputs": [],
   "source": [
    "train = pd.read_csv(\"train_/train_.csv\")\n",
    "train = train[train.columns[1:]]"
   ]
  },
  {
   "cell_type": "code",
   "execution_count": null,
   "metadata": {},
   "outputs": [],
   "source": []
  },
  {
   "cell_type": "code",
   "execution_count": 41,
   "metadata": {},
   "outputs": [],
   "source": [
    "get = ['diff_encoder','gan','method1','method2','allblack','colored',\n",
    "       'getcenterkernelized','autoencoder','method3',\n",
    "       'feat1','feat2','feat4']\n",
    "\n",
    "#feat1,2,4 is realted to autoencoder using earth_movers to calculate\n",
    "#distance between test and reconstruction.\n",
    "#diff_encoder and autoencoder was two encoders simple diff loss (sample-reconstructedImage).sum()\n",
    "#gan is loss from AnoGan (google colab)\n",
    "\n",
    "\n",
    "#abc\n",
    "\n",
    "test = pd.read_csv(\"test_/test_.csv\")\n",
    "test = test[test.columns[1:]]\n",
    "test = test[get]"
   ]
  },
  {
   "cell_type": "code",
   "execution_count": 42,
   "metadata": {},
   "outputs": [],
   "source": [
    "X=train.drop([\"anomaly\"],axis=1)\n",
    "y=train.anomaly\n",
    "X = X[get]\n"
   ]
  },
  {
   "cell_type": "code",
   "execution_count": 43,
   "metadata": {},
   "outputs": [],
   "source": [
    "X_train, X_test, y_train, y_test = train_test_split(X, y, test_size=0.33,stratify=y)"
   ]
  },
  {
   "cell_type": "code",
   "execution_count": null,
   "metadata": {},
   "outputs": [],
   "source": []
  },
  {
   "cell_type": "markdown",
   "metadata": {},
   "source": [
    "# Model only X_train"
   ]
  },
  {
   "cell_type": "code",
   "execution_count": 44,
   "metadata": {},
   "outputs": [
    {
     "name": "stdout",
     "output_type": "stream",
     "text": [
      "0.9624274612520898\n"
     ]
    }
   ],
   "source": [
    "clf = GradientBoostingClassifier(max_depth=5,max_features='log2',n_estimators=300)\n",
    "clf.fit(X_train, y_train)\n",
    "pred = clf.predict(X_test)\n",
    "print(fbeta_score(pred, y_test, average='macro', beta=0.5))\n",
    "        "
   ]
  },
  {
   "cell_type": "markdown",
   "metadata": {},
   "source": [
    "# Modelling on full and predicting on test (sample submission)"
   ]
  },
  {
   "cell_type": "code",
   "execution_count": 17,
   "metadata": {},
   "outputs": [],
   "source": [
    "clf = GradientBoostingClassifier(max_depth=5,max_features='log2',n_estimators=300)\n",
    "clf.fit(X, y)\n",
    "pred = clf.predict(test)\n",
    "        "
   ]
  },
  {
   "cell_type": "markdown",
   "metadata": {},
   "source": [
    "## Creation of Submission."
   ]
  },
  {
   "cell_type": "code",
   "execution_count": 21,
   "metadata": {},
   "outputs": [],
   "source": [
    "submission(pred).to_csv(\"submission.csv\",index=False)"
   ]
  },
  {
   "cell_type": "code",
   "execution_count": null,
   "metadata": {},
   "outputs": [],
   "source": []
  },
  {
   "cell_type": "code",
   "execution_count": 22,
   "metadata": {},
   "outputs": [],
   "source": [
    "importan_ = clf.feature_importances_"
   ]
  },
  {
   "cell_type": "code",
   "execution_count": 23,
   "metadata": {},
   "outputs": [],
   "source": [
    "columns = X_train.columns"
   ]
  },
  {
   "cell_type": "code",
   "execution_count": 32,
   "metadata": {},
   "outputs": [],
   "source": [
    "zipped = list(zip(importan_,columns))"
   ]
  },
  {
   "cell_type": "code",
   "execution_count": 33,
   "metadata": {},
   "outputs": [
    {
     "data": {
      "text/plain": [
       "[(0.29010502719615666, 'feat1'),\n",
       " (0.18765352119872186, 'feat2'),\n",
       " (0.1038707891631237, 'feat4'),\n",
       " (0.09430328523249511, 'method1'),\n",
       " (0.047375522775975294, 'ghi'),\n",
       " (0.0468125798229824, 'getcenterkernelized'),\n",
       " (0.044789821934716645, 'method3'),\n",
       " (0.04358698441301111, 'def'),\n",
       " (0.03300176478875217, 'abc'),\n",
       " (0.026866668899684486, 'gan'),\n",
       " (0.02545927455658093, 'allblack'),\n",
       " (0.018292648178141958, 'method2'),\n",
       " (0.01761210621183817, 'autoencoder'),\n",
       " (0.01194471764377508, 'colored'),\n",
       " (0.008325287984044518, 'diff_encoder')]"
      ]
     },
     "execution_count": 33,
     "metadata": {},
     "output_type": "execute_result"
    }
   ],
   "source": [
    "sorted(zipped, key = lambda t: t[0],reverse=True)"
   ]
  },
  {
   "cell_type": "code",
   "execution_count": null,
   "metadata": {},
   "outputs": [],
   "source": []
  },
  {
   "cell_type": "code",
   "execution_count": null,
   "metadata": {},
   "outputs": [],
   "source": []
  },
  {
   "cell_type": "code",
   "execution_count": null,
   "metadata": {},
   "outputs": [],
   "source": []
  },
  {
   "cell_type": "code",
   "execution_count": null,
   "metadata": {},
   "outputs": [],
   "source": []
  },
  {
   "cell_type": "code",
   "execution_count": null,
   "metadata": {},
   "outputs": [],
   "source": []
  },
  {
   "cell_type": "code",
   "execution_count": null,
   "metadata": {},
   "outputs": [],
   "source": []
  },
  {
   "cell_type": "markdown",
   "metadata": {},
   "source": [
    "# Google Colab \n",
    "\n",
    "##### https://colab.research.google.com/drive/1wHuTm9Ca2-iMAMioul7gpDoNHkYYf8Mu?usp=sharing Autoencoder\n",
    "\n",
    "##### https://colab.research.google.com/drive/1JTnlzHO9xZtQr8T8zA0Y_C9Y4W6WiDNj?usp=sharing AnoGan"
   ]
  },
  {
   "cell_type": "code",
   "execution_count": null,
   "metadata": {},
   "outputs": [],
   "source": []
  },
  {
   "cell_type": "code",
   "execution_count": null,
   "metadata": {},
   "outputs": [],
   "source": []
  }
 ],
 "metadata": {
  "kernelspec": {
   "display_name": "Python 3",
   "language": "python",
   "name": "python3"
  },
  "language_info": {
   "codemirror_mode": {
    "name": "ipython",
    "version": 3
   },
   "file_extension": ".py",
   "mimetype": "text/x-python",
   "name": "python",
   "nbconvert_exporter": "python",
   "pygments_lexer": "ipython3",
   "version": "3.8.5"
  }
 },
 "nbformat": 4,
 "nbformat_minor": 4
}
