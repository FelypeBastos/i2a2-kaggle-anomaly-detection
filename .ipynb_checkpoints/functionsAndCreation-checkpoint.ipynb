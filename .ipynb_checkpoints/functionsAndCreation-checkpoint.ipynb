{
 "cells": [
  {
   "cell_type": "code",
   "execution_count": 3,
   "metadata": {},
   "outputs": [],
   "source": [
    "import cv2\n",
    "from matplotlib import pyplot as plt\n",
    "import glob\n",
    "import os\n",
    "import pandas as pd\n",
    "import numpy as np\n",
    "from shutil import copyfile\n",
    "from sklearn.decomposition import PCA"
   ]
  },
  {
   "cell_type": "markdown",
   "metadata": {},
   "source": [
    "# Functions for all methods."
   ]
  },
  {
   "cell_type": "code",
   "execution_count": 4,
   "metadata": {},
   "outputs": [],
   "source": [
    "def method1(path):\n",
    "    img = cv2.imread(path,0)\n",
    "    img = resizeImg(img)\n",
    "    th2 = cv2.adaptiveThreshold(img,255,cv2.ADAPTIVE_THRESH_MEAN_C,\\\n",
    "                cv2.THRESH_BINARY,11,2)\n",
    "    edges = cv2.Canny(th2,100,200)\n",
    "    return (edges//255).sum()"
   ]
  },
  {
   "cell_type": "code",
   "execution_count": 5,
   "metadata": {},
   "outputs": [],
   "source": [
    "def method2(path):\n",
    "    img = cv2.imread(path,0)\n",
    "    img = resizeImg(img)\n",
    "    kernel = np.array([[0,1,0],[1,1,1],[0,1,0]])\n",
    "    dst = cv2.filter2D(img,-1,kernel)\n",
    "    return ((dst-255)//127).sum()"
   ]
  },
  {
   "cell_type": "code",
   "execution_count": 6,
   "metadata": {},
   "outputs": [],
   "source": [
    "def method3(path):\n",
    "    img = cv2.imread(path,0)\n",
    "    img = resizeImg(img)\n",
    "    clahe = cv2.createCLAHE(clipLimit=2.0, tileGridSize=(8,8))\n",
    "    cl1 = clahe.apply(img)\n",
    "    cl1 = cl1//125\n",
    "    kernel = np.array([[1,1,1,1,1,1,0,0,0,1,1,1,1,1,1,0,0,0,0],\n",
    "                       [1,1,1,1,1,1,0,0,0,1,1,1,1,1,1,0,0,0,0],\n",
    "                       [1,1,1,1,1,1,0,0,0,1,1,1,1,1,1,0,0,0,0],\n",
    "                       [1,1,1,1,1,1,0,0,0,1,1,1,1,1,1,0,0,0,0]]\n",
    "                     )\n",
    "    dst = cv2.filter2D(cl1,-1,kernel)\n",
    "    kernel = np.array([[0,1,0],[1,1,1],[0,1,0]])\n",
    "    dst = cv2.filter2D(dst,-1,kernel)\n",
    "    edges = cv2.Canny(dst,100,200)\n",
    "    n = edges.sum()//10000\n",
    "    return n*n\n"
   ]
  },
  {
   "cell_type": "code",
   "execution_count": 7,
   "metadata": {},
   "outputs": [],
   "source": [
    "def method4(path):\n",
    "    img = cv2.imread(path,0)\n",
    "    img = cv2.resize(img, (256,256), interpolation = cv2.INTER_AREA)\n",
    "    try:\n",
    "        img = cv2.adaptiveThreshold(img,255,cv2.ADAPTIVE_THRESH_MEAN_C,\\\n",
    "                        cv2.THRESH_BINARY,11,2)\n",
    "        faces_pca = PCA(n_components=2)\n",
    "        faces_pca.fit(img)\n",
    "        img_new = faces_pca.components_[0].reshape(16,16)+faces_pca.components_[1].reshape(16,16)\n",
    "    except:\n",
    "        return 0\n",
    "    return img_new.sum()"
   ]
  },
  {
   "cell_type": "code",
   "execution_count": 8,
   "metadata": {},
   "outputs": [],
   "source": [
    "def getcenterkernelized(path):\n",
    "    img = cv2.imread(path,0)\n",
    "    kernel = np.array([[0,1,0],\n",
    "                       [0,1,0],\n",
    "                       [0,1,0],\n",
    "                       [0,1,0]])\n",
    "    th2 = cv2.adaptiveThreshold(img,255,cv2.ADAPTIVE_THRESH_MEAN_C,\\\n",
    "                    cv2.THRESH_BINARY,11,2)\n",
    "    st = cv2.filter2D(img,-1,kernel)-255\n",
    "    a,l = st.shape\n",
    "    st = st[int(a*.1):int(a*.7),int(l*.1):int(l*.8)]\n",
    "    return (st==255).sum()"
   ]
  },
  {
   "cell_type": "code",
   "execution_count": 9,
   "metadata": {},
   "outputs": [],
   "source": [
    "def getColored(path):\n",
    "    img = cv2.imread(path)\n",
    "    img = resizeImg(img)\n",
    "    if (img[:, :, 0]//127).sum()==(img[:, :, 1]//127).sum() and (img[:, :, 1]//127).sum()==(img[:, :, 2]//127).sum():\n",
    "        return 0\n",
    "    else:\n",
    "        return 1"
   ]
  },
  {
   "cell_type": "code",
   "execution_count": 10,
   "metadata": {},
   "outputs": [],
   "source": [
    "def sumblack(path):\n",
    "    img = cv2.imread(path,0)\n",
    "    img = resizeImg(img)\n",
    "    return (img<=10).sum()"
   ]
  },
  {
   "cell_type": "code",
   "execution_count": 11,
   "metadata": {},
   "outputs": [],
   "source": [
    "def resizeImg(img):\n",
    "    resized = cv2.resize(img, (128,128), interpolation = cv2.INTER_AREA)\n",
    "    return resized"
   ]
  },
  {
   "cell_type": "code",
   "execution_count": null,
   "metadata": {},
   "outputs": [],
   "source": []
  },
  {
   "cell_type": "markdown",
   "metadata": {},
   "source": [
    "# Below we must apply our methods to images."
   ]
  },
  {
   "cell_type": "code",
   "execution_count": 26,
   "metadata": {},
   "outputs": [],
   "source": [
    "function = method4 #choose the method you want to apply.\n",
    "function_used = str(function).split(\" \")[1]"
   ]
  },
  {
   "cell_type": "code",
   "execution_count": 14,
   "metadata": {},
   "outputs": [],
   "source": [
    "mypath = 'images/'"
   ]
  },
  {
   "cell_type": "markdown",
   "metadata": {},
   "source": [
    "### Applying to train data."
   ]
  },
  {
   "cell_type": "code",
   "execution_count": 16,
   "metadata": {},
   "outputs": [],
   "source": [
    "df = pd.read_csv(\"train.csv\")\n",
    "for k in range(0,len(df.fileName)):\n",
    "    path = mypath+df.fileName.loc[k]\n",
    "    df.iloc[k,4] = function(path)\n",
    "df.to_csv(function_used+\"_train.csv\")"
   ]
  },
  {
   "cell_type": "markdown",
   "metadata": {},
   "source": [
    "### Applying to test data."
   ]
  },
  {
   "cell_type": "code",
   "execution_count": 212,
   "metadata": {},
   "outputs": [],
   "source": [
    "df2 = pd.read_csv(\"sample_submission.csv\")\n",
    "for k in range(0,len(df2.fileName)):\n",
    "    path = mypath+df2.fileName.loc[k]\n",
    "    df2.iloc[k,1] = function(path)\n",
    "df2.to_csv(function_used+\"_test.csv\")\n",
    "  "
   ]
  }
 ],
 "metadata": {
  "kernelspec": {
   "display_name": "Python 3",
   "language": "python",
   "name": "python3"
  },
  "language_info": {
   "codemirror_mode": {
    "name": "ipython",
    "version": 3
   },
   "file_extension": ".py",
   "mimetype": "text/x-python",
   "name": "python",
   "nbconvert_exporter": "python",
   "pygments_lexer": "ipython3",
   "version": "3.8.5"
  }
 },
 "nbformat": 4,
 "nbformat_minor": 4
}
